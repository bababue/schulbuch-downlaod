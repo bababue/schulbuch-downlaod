{
 "cells": [
  {
   "cell_type": "markdown",
   "metadata": {},
   "source": [
    "# Schulbuch Downloader"
   ]
  },
  {
   "cell_type": "markdown",
   "metadata": {},
   "source": [
    "\n",
    "### Klicke auf den Pfeil links neben dem Code, um das Programm zu installieren. Dieser Schritt muss nur einmal ausgeführt werden. Zugriff auf deinen Google Drive ist benötigt."
   ]
  },
  {
   "cell_type": "code",
   "execution_count": null,
   "metadata": {},
   "outputs": [],
   "source": [
    "!git clone \"https://github.com/bababue/schulbuch-downlaod\"\n",
    "%cd \"schulbuch-downlaod\"\n",
    "!pip install -r requierements.txt\n",
    "!playwright install\n",
    "from google.colab import drive\n",
    "drive.mount('/content/drive')"
   ]
  },
  {
   "cell_type": "markdown",
   "metadata": {},
   "source": [
    "### Klicke auf den Pfeil links neben dem Code, um das Programm zu starten. Es erscheinten Felder, in denen du deine Antworten eingeben kannst. Die finale PDF ist auf deinem Google Drive als \"final.pdf\" gespeichert. "
   ]
  },
  {
   "cell_type": "code",
   "execution_count": null,
   "metadata": {},
   "outputs": [],
   "source": [
    "!python main.py\n",
    "!cp final.pdf \"/content/drive/My Drive/\""
   ]
  }
 ],
 "metadata": {
  "language_info": {
   "name": "python"
  }
 },
 "nbformat": 4,
 "nbformat_minor": 2
}
